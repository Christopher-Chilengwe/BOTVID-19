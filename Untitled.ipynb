{
 "cells": [
  {
   "cell_type": "code",
   "execution_count": 4,
   "metadata": {},
   "outputs": [],
   "source": [
    "output = {'object': 'page', 'entry': [{'id': '106138824337087', 'time': 1584623799570, 'messaging': [{'sender': {'id': '2723665511083978'}, 'recipient': {'id': '106138824337087'}, 'timestamp': 1584623536877, 'message': {'mid': 'm_m5tr2iUkWuzLsS4WvJNaCyeoq3aoUsB-AtFkDiLBde22dSXfilHI_M2chBzUWHfp4WJMtmHGgD4pxYbwvaC7qg', 'text': 'Would you rather fight 1 horse-sized duck or 100 duck-sized horses?'}}]}]}"
   ]
  },
  {
   "cell_type": "code",
   "execution_count": 2,
   "metadata": {},
   "outputs": [
    {
     "data": {
      "text/plain": [
       "{'object': 'page',\n",
       " 'entry': [{'id': '106138824337087',\n",
       "   'time': 1584623799570,\n",
       "   'messaging': [{'sender': {'id': '2723665511083978'},\n",
       "     'recipient': {'id': '106138824337087'},\n",
       "     'timestamp': 1584623536877,\n",
       "     'message': {'mid': 'm_m5tr2iUkWuzLsS4WvJNaCyeoq3aoUsB-AtFkDiLBde22dSXfilHI_M2chBzUWHfp4WJMtmHGgD4pxYbwvaC7qg',\n",
       "      'text': 'Would you rather fight 1 horse-sized duck or 100 duck-sized horses?'}}]}]}"
      ]
     },
     "execution_count": 2,
     "metadata": {},
     "output_type": "execute_result"
    }
   ],
   "source": [
    "a"
   ]
  },
  {
   "cell_type": "code",
   "execution_count": 15,
   "metadata": {},
   "outputs": [],
   "source": [
    "message = output['entry'][0]['messaging'][0]['message']['text']\n"
   ]
  },
  {
   "cell_type": "code",
   "execution_count": 17,
   "metadata": {},
   "outputs": [],
   "source": [
    "user_id = output['entry'][0]['messaging'][0]['sender']['id']"
   ]
  },
  {
   "cell_type": "code",
   "execution_count": 11,
   "metadata": {},
   "outputs": [
    {
     "data": {
      "text/plain": [
       "'2723665511083978'"
      ]
     },
     "execution_count": 11,
     "metadata": {},
     "output_type": "execute_result"
    }
   ],
   "source": [
    "user_id"
   ]
  },
  {
   "cell_type": "code",
   "execution_count": 16,
   "metadata": {},
   "outputs": [
    {
     "name": "stdout",
     "output_type": "stream",
     "text": [
      "Would you rather fight 1 horse-sized duck or 100 duck-sized horses?\n"
     ]
    }
   ],
   "source": [
    "print(message)"
   ]
  },
  {
   "cell_type": "code",
   "execution_count": null,
   "metadata": {},
   "outputs": [],
   "source": []
  }
 ],
 "metadata": {
  "kernelspec": {
   "display_name": "Python 3",
   "language": "python",
   "name": "python3"
  },
  "language_info": {
   "codemirror_mode": {
    "name": "ipython",
    "version": 3
   },
   "file_extension": ".py",
   "mimetype": "text/x-python",
   "name": "python",
   "nbconvert_exporter": "python",
   "pygments_lexer": "ipython3",
   "version": "3.7.5"
  }
 },
 "nbformat": 4,
 "nbformat_minor": 2
}
